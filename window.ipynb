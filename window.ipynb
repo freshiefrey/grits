{
 "cells": [
  {
   "cell_type": "code",
   "execution_count": 2,
   "metadata": {
    "collapsed": true,
    "pycharm": {
     "name": "#%%\n",
     "is_executing": false
    }
   },
   "outputs": [],
   "source": [
    "\"\"\"\n",
    "Window.ipyb\n",
    "\n",
    "This notebook performs a trailing window on specified time series data with the following parameters:\n",
    "- window size\n",
    "- hops\n",
    "In our context, our data is collected on an average of 1 second per movement. Thus, setting our window\n",
    " frame as 1s, with a sampling rate of 50Hz would result in 50 samples per window.\n",
    "\"\"\"\n",
    "\n",
    "import pandas as pd\n",
    "import tensorflow as tf\n",
    "import numpy as np\n",
    "import xarray\n",
    "\n",
    "# with open ('training_data/combined_buddhaClap.csv', 'r') as r:\n",
    "csv1 = 'training_data/combined_buddhaClap.csv'\n",
    "csv2 = 'training_data/combined_crankLeft.csv'\n",
    "csv3 = 'training_data/combined_crankRight.csv'\n",
    "csv4 = 'training_data/combined_knobLeft.csv'\n",
    "csv5 = 'training_data/combined_knobRight.csv'\n",
    "csv6 = 'training_data/combined_pushback.csv'\n",
    "csv7 = 'training_data/combined_swipe.csv'\n"
   ]
  },
  {
   "cell_type": "code",
   "execution_count": 1,
   "outputs": [],
   "source": [
    "# df = pd.read_csv('training_data/test.csv')\n",
    "# df\n",
    "# len(df)\n",
    "# df.to_numpy()"
   ],
   "metadata": {
    "collapsed": false,
    "pycharm": {
     "name": "#%%\n",
     "is_executing": false
    }
   }
  },
  {
   "cell_type": "code",
   "execution_count": 5,
   "outputs": [
    {
     "output_type": "stream",
     "name": "stderr",
     "text": [
      "  0%|          | 0/7 [00:00<?, ?it/s]start!\n",
      " 14%|█▍        | 1/7 [00:00<00:01,  5.24it/s]\n",
      "(10911, 50, 6)\n",
      " 43%|████▎     | 3/7 [00:00<00:00,  5.37it/s](10911, 50, 6)\n",
      "(10911, 50, 6)\n",
      " 71%|███████▏  | 5/7 [00:00<00:00,  5.11it/s](10911, 50, 6)\n",
      " 86%|████████▌ | 6/7 [00:01<00:00,  5.08it/s]\n",
      "100%|██████████| 7/7 [00:01<00:00,  5.12it/s]\n",
      "ok!\n",
      "\n"
     ]
    },
    {
     "output_type": "execute_result",
     "data": {
      "text/plain": [
       "array([[[-1.7500e+00,  1.9000e-01, -3.3000e-01,  2.2770e+01,\n",
       "          2.4999e+02,  2.4999e+02],\n",
       "        [-1.6500e+00, -1.0000e-02, -1.1000e-01,  9.0100e+01,\n",
       "          2.4999e+02,  2.4552e+02],\n",
       "        [-1.3400e+00,  4.0000e-02,  1.3000e-01,  1.2638e+02,\n",
       "          2.4999e+02,  2.2218e+02],\n",
       "        ...,\n",
       "        [-7.9000e-01,  2.4900e+00, -3.6100e+00, -9.9390e+01,\n",
       "          5.4380e+01,  2.3390e+01],\n",
       "        [-1.1200e+00,  2.1900e+00, -3.4100e+00, -4.0690e+01,\n",
       "          1.4500e+02,  9.3510e+01],\n",
       "        [-1.6200e+00,  2.2000e+00, -3.0000e+00,  1.0530e+01,\n",
       "          2.2304e+02,  1.2435e+02]],\n",
       "\n",
       "       [[-2.3000e-01,  2.5000e-01,  2.4000e-01, -1.3695e+02,\n",
       "         -2.0723e+02, -8.3020e+01],\n",
       "        [-3.9000e-01,  1.4000e-01,  1.1000e-01, -1.1826e+02,\n",
       "         -2.0531e+02, -9.0680e+01],\n",
       "        [-5.0000e-01,  8.0000e-02,  5.0000e-02, -8.7340e+01,\n",
       "         -2.1457e+02, -9.5150e+01],\n",
       "        ...,\n",
       "        [-1.8200e+00,  1.4000e-01,  1.2800e+00,  1.1925e+02,\n",
       "         -8.8540e+01,  1.2853e+02],\n",
       "        [ 8.3000e-01,  1.2300e+00,  2.4500e+00, -2.1080e+01,\n",
       "         -1.0031e+02, -1.4920e+01],\n",
       "        [ 5.0000e-01, -4.4000e-01,  1.4000e+00, -1.7851e+02,\n",
       "          2.5740e+01, -1.0030e+01]],\n",
       "\n",
       "       [[-1.9400e+00,  2.0700e+00, -2.5700e+00,  3.1700e+00,\n",
       "          2.4999e+02,  1.3746e+02],\n",
       "        [-2.2300e+00,  1.8600e+00, -2.1500e+00, -2.0940e+01,\n",
       "          2.4999e+02,  1.5142e+02],\n",
       "        [-2.5100e+00,  1.6500e+00, -1.9200e+00, -4.0050e+01,\n",
       "          2.4999e+02,  1.6670e+02],\n",
       "        ...,\n",
       "        [-1.6400e+00,  1.7400e+00, -2.0000e+00, -1.2742e+02,\n",
       "         -2.5000e+02, -1.6490e+02],\n",
       "        [-1.3800e+00,  1.8000e+00, -2.1800e+00, -7.3120e+01,\n",
       "         -2.5000e+02, -1.3055e+02],\n",
       "        [-1.1600e+00,  2.1400e+00, -2.2200e+00, -5.4180e+01,\n",
       "         -2.1140e+02, -1.1552e+02]],\n",
       "\n",
       "       ...,\n",
       "\n",
       "       [[-5.4000e-01,  1.0500e+00, -3.9000e-01,  7.0700e+00,\n",
       "          2.4999e+02, -1.6450e+02],\n",
       "        [-6.4000e-01,  1.1700e+00, -1.3000e-01, -5.1700e+01,\n",
       "          2.4999e+02, -1.4664e+02],\n",
       "        [-4.8000e-01,  9.2000e-01, -2.5000e-01, -6.7090e+01,\n",
       "          2.1218e+02, -1.0918e+02],\n",
       "        ...,\n",
       "        [-9.0000e-02,  6.6000e-01, -1.0100e+00, -5.1000e+00,\n",
       "          6.5140e+01, -3.1180e+01],\n",
       "        [-1.9000e-01,  6.9000e-01, -9.6000e-01, -3.4600e+00,\n",
       "          7.9090e+01, -3.7500e+01],\n",
       "        [-2.0000e-01,  7.1000e-01, -9.7000e-01, -1.4780e+01,\n",
       "          7.8410e+01, -4.0790e+01]],\n",
       "\n",
       "       [[-4.7000e-01,  9.2000e-01, -8.0000e-02, -4.9180e+01,\n",
       "         -1.8872e+02,  1.0934e+02],\n",
       "        [-4.6000e-01,  7.5000e-01, -1.8000e-01, -2.8190e+01,\n",
       "         -2.3927e+02,  1.2539e+02],\n",
       "        [-4.2000e-01,  6.8000e-01, -3.0000e-01,  2.4830e+01,\n",
       "         -2.5000e+02,  1.5063e+02],\n",
       "        ...,\n",
       "        [-5.4000e-01,  1.2500e+00,  2.9000e-01, -3.7810e+01,\n",
       "          1.0222e+02, -5.2090e+01],\n",
       "        [-5.0000e-01,  1.1500e+00,  2.8000e-01, -2.5120e+01,\n",
       "          4.1820e+01, -2.1690e+01],\n",
       "        [-4.6000e-01,  1.1600e+00,  2.7000e-01, -4.9100e+00,\n",
       "         -4.6700e+00,  1.1100e+00]],\n",
       "\n",
       "       [[-1.9000e-01,  6.6000e-01, -1.0100e+00, -2.8890e+01,\n",
       "          1.0533e+02, -4.6650e+01],\n",
       "        [-2.5000e-01,  6.6000e-01, -9.5000e-01, -3.9270e+01,\n",
       "          1.3735e+02, -5.5700e+01],\n",
       "        [-3.2000e-01,  6.8000e-01, -8.5000e-01, -4.5710e+01,\n",
       "          1.6821e+02, -6.5090e+01],\n",
       "        ...,\n",
       "        [-2.0000e-01,  7.1000e-01, -8.6000e-01, -6.4000e-01,\n",
       "         -1.8918e+02,  9.7920e+01],\n",
       "        [-2.1000e-01,  6.3000e-01, -8.5000e-01,  3.8100e+00,\n",
       "         -1.5829e+02,  8.2210e+01],\n",
       "        [-2.2000e-01,  5.6000e-01, -8.9000e-01,  2.3550e+01,\n",
       "         -1.3815e+02,  6.4930e+01]]])"
      ]
     },
     "metadata": {},
     "execution_count": 5
    }
   ],
   "source": [
    "\"\"\"\n",
    "Sliding window function and params\n",
    "\"\"\"\n",
    "from tqdm import tqdm\n",
    "\n",
    "csv1 = 'training_data/combined_buddhaClap.csv'\n",
    "csv2 = 'training_data/combined_crankLeft.csv'\n",
    "csv3 = 'training_data/combined_crankRight.csv'\n",
    "csv4 = 'training_data/combined_knobLeft.csv'\n",
    "csv5 = 'training_data/combined_knobRight.csv'\n",
    "csv6 = 'training_data/combined_pushback.csv'\n",
    "csv7 = 'training_data/combined_swipe.csv'\n",
    "\n",
    "window = 50\n",
    "overlap = 25\n",
    "\n",
    "from skimage.util.shape import view_as_windows\n",
    "import warnings\n",
    "\n",
    "def strided_axis0(a, L, overlap=1):\n",
    "    if L==overlap:\n",
    "        raise Exception(\"Overlap arg must be smaller than length of windows\")\n",
    "    S = L - overlap\n",
    "    nd0 = ((len(a)-L)//S)+1\n",
    "    if nd0*S-S!=len(a)-L:\n",
    "        warnings.warn(\"Not all elements were covered\")\n",
    "    output = view_as_windows(a, (L,a.shape[1]), step=S)[:,0,:,:]\n",
    "    print(output.shape)\n",
    "    return output\n",
    "\n",
    "\n",
    "# total_array = np.empty((0,6))\n",
    "total_array = np.empty((0,50,6))\n",
    "csv_list = [csv1, csv2, csv3, csv4, csv5, csv6, csv7]\n",
    "print('start!')\n",
    "for csv in tqdm(csv_list):\n",
    "    df = pd.read_csv(csv)\n",
    "    window_array = strided_axis0(df.to_numpy(), 50, overlap=25)\n",
    "    # total_array += window_df.to_numpy()\n",
    "    # window_array = window_df.to_xarray().to_array()\n",
    "    total_array = np.append(total_array, window_array , axis = 0)\n",
    "print('ok!')\n",
    "total_array"
   ],
   "metadata": {
    "collapsed": false,
    "pycharm": {
     "name": "#%%\n",
     "is_executing": false
    }
   }
  },
  {
   "cell_type": "code",
   "execution_count": 6,
   "outputs": [
    {
     "output_type": "execute_result",
     "data": {
      "text/plain": [
       "(76377, 50, 6)"
      ]
     },
     "metadata": {},
     "execution_count": 6
    }
   ],
   "source": [
    "total_array.shape"
   ],
   "metadata": {
    "collapsed": false,
    "pycharm": {
     "name": "#%%\n",
     "is_executing": false
    }
   }
  },
  {
   "cell_type": "code",
   "execution_count": 7,
   "outputs": [],
   "source": [
    "# \"\"\"\"\n",
    "# SAVE 3D (76377, 50, 6) ARRAY TO CSV\n",
    "# \"\"\"\n",
    "# filename = 'window.csv'\n",
    "# arr = total_array\n",
    "# arrReshaped = arr.reshape(arr.shape[0], -1)\n",
    "# # saving reshaped array to file.\n",
    "# np.savetxt(filename, arrReshaped)\n",
    "# # retrieving data from file.\n",
    "# loadedArr = np.loadtxt(filename)\n",
    "# # This loadedArr is a 2D array, therefore we need to convert it to the original array shape.\n",
    "# # reshaping to get original matrice with original shape.\n",
    "# loadedOriginal = loadedArr.reshape(loadedArr.shape[0], loadedArr.shape[1] // arr.shape[2], arr.shape[2])"
   ],
   "metadata": {
    "collapsed": false,
    "pycharm": {
     "name": "#%%\n",
     "is_executing": false
    }
   }
  },
  {
   "cell_type": "code",
   "execution_count": 8,
   "outputs": [
    {
     "output_type": "stream",
     "name": "stdout",
     "text": [
      "shape of arr:  (76377, 50, 6)\nshape of load_original_arr:  (76377, 50, 6)\nYes, both the arrays are same\n"
     ]
    }
   ],
   "source": [
    "\"\"\"\n",
    "Save into txt file\n",
    "\"\"\"\n",
    "arr = total_array\n",
    "  \n",
    "# reshaping the array from 3D \n",
    "# matrice to 2D matrice. \n",
    "arr_reshaped = arr.reshape(arr.shape[0], -1) \n",
    "  \n",
    "# saving reshaped array to file. \n",
    "np.savetxt(\"numpy-window.txt\", arr_reshaped) \n",
    "  \n",
    "# retrieving data from file. \n",
    "loaded_arr = np.loadtxt(\"numpy-window.txt\") \n",
    "  \n",
    "# This loadedArr is a 2D array, therefore \n",
    "# we need to convert it to the original \n",
    "# array shape.reshaping to get original \n",
    "# matrice with original shape. \n",
    "load_original_arr = loaded_arr.reshape( \n",
    "    loaded_arr.shape[0], loaded_arr.shape[1] // arr.shape[2], arr.shape[2]) \n",
    "  \n",
    "# check the shapes: \n",
    "print(\"shape of arr: \", arr.shape) \n",
    "print(\"shape of load_original_arr: \", load_original_arr.shape) \n",
    "  \n",
    "# check if both arrays are same or not: \n",
    "if (load_original_arr == arr).all(): \n",
    "    print(\"Yes, both the arrays are same\") \n",
    "else: \n",
    "    print(\"No, both the arrays are not same\") "
   ],
   "metadata": {
    "collapsed": false,
    "pycharm": {
     "name": "#%%\n",
     "is_executing": false
    }
   }
  },
  {
   "cell_type": "code",
   "execution_count": 9,
   "outputs": [
    {
     "output_type": "execute_result",
     "data": {
      "text/plain": [
       "(76377, 50, 6)"
      ]
     },
     "metadata": {},
     "execution_count": 9
    }
   ],
   "source": [
    "(total_array.shape)"
   ],
   "metadata": {
    "collapsed": false,
    "pycharm": {
     "name": "#%%\n",
     "is_executing": false
    }
   }
  },
  {
   "cell_type": "code",
   "execution_count": 10,
   "outputs": [
    {
     "output_type": "stream",
     "name": "stdout",
     "text": [
      "start!\n"
     ]
    },
    {
     "output_type": "execute_result",
     "data": {
      "text/plain": [
       "(76377, 50, 6)"
      ]
     },
     "metadata": {},
     "execution_count": 10
    }
   ],
   "source": [
    "\"\"\"\n",
    "Load data contents\n",
    "\"\"\"\n",
    "print('start!')\n",
    "import numpy as np\n",
    "shape = (76377, 50, 6)\n",
    "loaded_arr = np.loadtxt(\"numpy-window.txt\") \n",
    "load_original_arr = loaded_arr.reshape( \n",
    "    loaded_arr.shape[0], loaded_arr.shape[1] // shape[2], shape[2]) \n",
    "load_original_arr.shape"
   ],
   "metadata": {
    "collapsed": false,
    "pycharm": {
     "name": "#%%\n"
    }
   }
  },
  {
   "cell_type": "code",
   "execution_count": 11,
   "outputs": [
    {
     "output_type": "execute_result",
     "data": {
      "text/plain": [
       "array([[1],\n",
       "       [1],\n",
       "       [1],\n",
       "       ...,\n",
       "       [7],\n",
       "       [7],\n",
       "       [7]])"
      ]
     },
     "metadata": {},
     "execution_count": 11
    }
   ],
   "source": [
    "\"\"\"\n",
    "Create gesture class labels according to index\n",
    "1: buddha clap\n",
    "2: crank left\n",
    "3: crank right\n",
    "4: knob left\n",
    "5: knob right\n",
    "6: pushback\n",
    "7: swipe\n",
    "\"\"\"\n",
    "y_array = np.empty((0,1), int)\n",
    "for i in range(1,8):\n",
    "    label_array = np.full((10911,1), i)\n",
    "    y_array = np.append(y_array, label_array, axis = 0)\n",
    "y_array"
   ],
   "metadata": {
    "collapsed": false,
    "pycharm": {
     "name": "#%%\n"
    }
   }
  },
  {
   "cell_type": "code",
   "execution_count": 12,
   "outputs": [
    {
     "output_type": "execute_result",
     "data": {
      "text/plain": [
       "(76377, 50, 6)"
      ]
     },
     "metadata": {},
     "execution_count": 12
    }
   ],
   "source": [
    "x_array = load_original_arr\n",
    "\n",
    "# y_array.shape\n",
    "x_array.shape"
   ],
   "metadata": {
    "collapsed": false,
    "pycharm": {
     "name": "#%%\n"
    }
   }
  },
  {
   "cell_type": "code",
   "execution_count": 13,
   "outputs": [
    {
     "output_type": "stream",
     "name": "stderr",
     "text": [
      "100%|██████████| 7/7 [18:31<00:00, 158.74s/it](53466, 50, 6)\n",
      "(22904, 50, 6)\n",
      "(53466, 1)\n",
      "(22904, 1)\n",
      "\n"
     ]
    }
   ],
   "source": [
    "\"\"\"\n",
    "Split into train-test data\n",
    "\"\"\"\n",
    "from tqdm import tqdm\n",
    "from sklearn.model_selection import train_test_split\n",
    "train_ratio = 0.7\n",
    "class_size = 10911 ## number of samples per class\n",
    "x_train = np.empty((0,50,6))\n",
    "y_train = np.empty((0,1), int)\n",
    "x_test = np.empty((0,50,6))\n",
    "y_test = np.empty((0,1), int)\n",
    "for i in tqdm(range(7)):\n",
    "    start = i*(class_size)\n",
    "    stop =  (i+1)*(class_size)-1\n",
    "    for index, (x,y) in enumerate(zip(x_array[start:stop], y_array[start:stop])):\n",
    "        # print(index)\n",
    "        if index < train_ratio*class_size:\n",
    "            x_train = np.insert(x_train, 0, x, axis = 0)\n",
    "            y_train = np.insert(y_train, 0, y, axis = 0)\n",
    "        else:\n",
    "            x_test = np.insert(x_test, 0, x, axis = 0)\n",
    "            y_test = np.insert(y_test, 0, y, axis = 0)\n",
    "x_train\n",
    "print(x_train.shape)\n",
    "print(x_test.shape)\n",
    "print(y_train.shape)\n",
    "print(y_test.shape)"
   ],
   "metadata": {
    "collapsed": false,
    "pycharm": {
     "name": "#%%\n"
    }
   }
  },
  {
   "cell_type": "code",
   "execution_count": 20,
   "outputs": [],
   "source": [
    "\"\"\"\n",
    "SAVE INTO text & numpy\n",
    "\"\"\"\n",
    "## save into numpy file\n",
    "np.save('ready_data/x_train', x_train)\n",
    "np.save('ready_data/y_train', y_train)\n",
    "np.save('ready_data/x_test', x_test)\n",
    "np.save('ready_data/y_test', y_test)\n",
    "\n",
    "\n",
    "\n",
    "# reshaping the array from 3D \n",
    "# matrice to 2D matrice. \n",
    "arr_reshaped = x_train.reshape(x_train.shape[0], -1) \n",
    "arr_reshaped1 = x_test.reshape(x_test.shape[0], -1)\n",
    "arr_reshaped2 = y_train#.reshape(y_train.shape[0], -1)\n",
    "arr_reshaped3 = y_test#.reshape(y_test.shape[0], -1)\n",
    "\n",
    "# saving reshaped array to file. \n",
    "np.savetxt(\"ready_data/x_train.txt\", arr_reshaped) \n",
    "np.savetxt(\"ready_data/x_test.txt\", arr_reshaped1) \n",
    "np.savetxt(\"ready_data/y_train.txt\", arr_reshaped2) \n",
    "np.savetxt(\"ready_data/y_test.txt\", arr_reshaped3) "
   ],
   "metadata": {
    "collapsed": false,
    "pycharm": {
     "name": "#%%arr = total_array\n"
    }
   }
  },
  {
   "cell_type": "code",
   "execution_count": null,
   "metadata": {},
   "outputs": [],
   "source": []
  }
 ],
 "metadata": {
  "kernelspec": {
   "name": "Python 3.7.7 64-bit ('venv')",
   "display_name": "Python 3.7.7 64-bit ('venv')",
   "metadata": {
    "interpreter": {
     "hash": "114d62b75f995e056581e916f376bfc5abfea1a21c26be0a5cfbbf064ec4142f"
    }
   }
  },
  "language_info": {
   "codemirror_mode": {
    "name": "ipython",
    "version": 2
   },
   "file_extension": ".py",
   "mimetype": "text/x-python",
   "name": "python",
   "nbconvert_exporter": "python",
   "pygments_lexer": "ipython2",
   "version": "3.7.7-final"
  },
  "pycharm": {
   "stem_cell": {
    "cell_type": "raw",
    "source": [],
    "metadata": {
     "collapsed": false
    }
   }
  }
 },
 "nbformat": 4,
 "nbformat_minor": 0
}