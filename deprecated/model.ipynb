{
 "cells": [
  {
   "cell_type": "code",
   "execution_count": 1,
   "metadata": {
    "collapsed": true,
    "pycharm": {
     "is_executing": false
    }
   },
   "outputs": [
    {
     "name": "stderr",
     "text": [
      "Using TensorFlow backend.\n"
     ],
     "output_type": "stream"
    }
   ],
   "source": [
    "# lstm model\n",
    "from numpy import mean\n",
    "from numpy import std\n",
    "import numpy as np\n",
    "from numpy import dstack\n",
    "from pandas import read_csv\n",
    "from keras.models import Sequential\n",
    "from keras.layers import Dense\n",
    "from keras.layers import Flatten\n",
    "from keras.layers import Dropout\n",
    "from keras.layers import LSTM\n",
    "from keras.utils import to_categorical\n",
    "from matplotlib import pyplot"
   ]
  },
  {
   "cell_type": "code",
   "execution_count": 5,
   "outputs": [
    {
     "name": "stdout",
     "text": [
      "(53466, 50, 6)\n",
      "(22904, 50, 6)\n",
      "(53466,)\n",
      "(22904,)\n"
     ],
     "output_type": "stream"
    }
   ],
   "source": [
    "\"\"\"\n",
    "Import from text\n",
    "\"\"\"\n",
    "\n",
    "trainxshape = (53466, 50, 6)\n",
    "trainyshape = (53466, 1)\n",
    "testxshape = (22904, 50, 6)\n",
    "testyshape =(22904, 1)\n",
    "\n",
    "loaded_arr = np.loadtxt(\"ready_data/x_train.txt\")\n",
    "x_train = loaded_arr.reshape(\n",
    "    loaded_arr.shape[0], loaded_arr.shape[1] // trainxshape[2], trainxshape[2])\n",
    "\n",
    "loaded_arr1 = np.loadtxt(\"ready_data/y_train.txt\")\n",
    "y_train = loaded_arr1#.reshape(\n",
    "    #loaded_arr1.shape[0], trainyshape[1])\n",
    "\n",
    "loaded_arr2 = np.loadtxt(\"ready_data/x_test.txt\")\n",
    "x_test = loaded_arr2.reshape(loaded_arr2.shape[0], loaded_arr2.shape[1] // testxshape[2], testxshape[2])\n",
    "\n",
    "loaded_arr3 = np.loadtxt(\"ready_data/y_test.txt\")\n",
    "y_test = loaded_arr3#.reshape(\n",
    "    #loaded_arr3.shape[0], loaded_arr3.shape[1])# // testyshape[2], testyshape[2])\n",
    "print(x_train.shape)\n",
    "print(x_test.shape)\n",
    "print(y_train.shape)\n",
    "print(y_test.shape)"
   ],
   "metadata": {
    "collapsed": false,
    "pycharm": {
     "name": "#%%\n",
     "is_executing": false
    }
   }
  },
  {
   "cell_type": "code",
   "execution_count": null,
   "outputs": [],
   "source": [
    "len(y_train[0])"
   ],
   "metadata": {
    "collapsed": false,
    "pycharm": {
     "name": "#%%\n",
     "is_executing": true
    }
   }
  },
  {
   "cell_type": "code",
   "execution_count": 8,
   "outputs": [
    {
     "data": {
      "text/plain": "array([[ 4.7000e-01,  5.8000e-01,  8.5000e-01, -1.8100e+01, -8.4330e+01,\n         2.1840e+01],\n       [ 3.9000e-01,  6.9000e-01,  9.2000e-01, -5.1880e+01, -1.1437e+02,\n         2.5950e+01],\n       [ 4.4000e-01,  6.2000e-01,  7.2000e-01, -2.8880e+01, -1.2571e+02,\n         3.4490e+01],\n       [ 4.2000e-01,  5.1000e-01,  5.7000e-01, -3.5410e+01, -1.3927e+02,\n         4.4410e+01],\n       [ 4.6000e-01,  4.2000e-01,  4.3000e-01, -1.1000e+01, -1.5411e+02,\n         5.3830e+01],\n       [ 4.2000e-01,  3.9000e-01,  3.6000e-01, -9.8500e+00, -1.5382e+02,\n         5.3310e+01],\n       [ 3.9000e-01,  4.0000e-01,  3.5000e-01, -1.1550e+01, -1.5052e+02,\n         4.7680e+01],\n       [ 4.0000e-01,  3.2000e-01,  2.3000e-01, -3.3990e+01, -1.7143e+02,\n         4.5630e+01],\n       [ 3.8000e-01,  1.9000e-01,  1.0000e-02, -7.0100e+00, -1.8409e+02,\n         5.7720e+01],\n       [ 3.5000e-01,  2.2000e-01, -1.3000e-01,  3.6790e+01, -1.9012e+02,\n         6.9610e+01],\n       [ 3.8000e-01,  2.5000e-01, -1.8000e-01,  3.1200e+01, -1.9309e+02,\n         7.1870e+01],\n       [ 4.2000e-01,  2.5000e-01, -2.6000e-01,  7.1600e+00, -1.8237e+02,\n         6.4480e+01],\n       [ 3.1000e-01,  1.9000e-01, -3.1000e-01, -1.7780e+01, -1.7085e+02,\n         5.6400e+01],\n       [ 2.4000e-01,  2.0000e-02, -4.0000e-01, -3.2720e+01, -1.8959e+02,\n         5.6310e+01],\n       [ 2.5000e-01, -9.0000e-02, -5.8000e-01,  1.4310e+01, -1.9352e+02,\n         6.8280e+01],\n       [ 2.4000e-01,  1.3000e-01, -5.6000e-01,  6.5350e+01, -1.8271e+02,\n         7.2380e+01],\n       [ 1.1000e-01, -6.0000e-02, -7.4000e-01, -3.6570e+01, -1.8294e+02,\n         6.2270e+01],\n       [ 3.1000e-01, -2.8000e-01, -9.3000e-01,  1.5750e+01, -2.1724e+02,\n         8.0210e+01],\n       [ 3.0000e-02, -1.5000e-01, -8.6000e-01,  1.2260e+02, -1.5186e+02,\n         9.3330e+01],\n       [-1.2000e-01,  1.0000e-02, -7.7000e-01,  4.6650e+01, -1.8733e+02,\n         8.7470e+01],\n       [-9.0000e-02, -3.0000e-01, -1.1600e+00, -7.5120e+01, -2.2536e+02,\n         7.8840e+01],\n       [ 3.1000e-01, -4.6000e-01, -1.3400e+00,  5.6820e+01, -2.4131e+02,\n         9.8770e+01],\n       [-1.0000e-01, -2.8000e-01, -9.7000e-01,  1.0303e+02, -1.4437e+02,\n         1.0666e+02],\n       [-1.9000e-01, -2.8000e-01, -1.0400e+00,  1.6580e+01, -2.1347e+02,\n         9.0580e+01],\n       [-1.4000e-01, -4.3000e-01, -1.3400e+00, -3.4000e+00, -1.8785e+02,\n         7.1050e+01],\n       [ 7.0000e-02, -2.5000e-01, -1.1800e+00,  7.0000e+00, -1.8917e+02,\n         4.7830e+01],\n       [-2.0000e-02, -9.0000e-02, -9.9000e-01, -6.5160e+01, -1.3646e+02,\n         1.4750e+01],\n       [-1.6000e-01, -2.0000e-01, -1.1300e+00, -9.6910e+01, -1.3360e+02,\n         9.5800e+00],\n       [-3.1000e-01, -3.6000e-01, -1.7300e+00, -8.4100e+01, -2.3024e+02,\n         2.5190e+01],\n       [ 1.3000e-01, -1.9000e-01, -2.0200e+00, -1.4430e+01, -2.5000e+02,\n         2.6790e+01],\n       [ 1.6000e-01, -5.0000e-02, -2.4300e+00, -2.9650e+01, -1.5694e+02,\n         3.3160e+01],\n       [ 7.0000e-02, -4.1000e-01, -2.6500e+00, -9.5180e+01, -1.2717e+02,\n         3.4710e+01],\n       [ 3.3000e-01, -6.2000e-01, -2.8000e+00, -4.7340e+01, -1.2489e+02,\n         3.0340e+01],\n       [ 4.4000e-01, -5.4000e-01, -3.0800e+00,  3.5700e+00, -8.1130e+01,\n         1.6170e+01],\n       [ 3.8000e-01, -4.0000e-01, -3.1200e+00,  1.7320e+01, -7.8100e+00,\n         1.1910e+01],\n       [ 3.2000e-01, -6.0000e-01, -3.1500e+00,  1.1540e+01,  5.0170e+01,\n         3.7700e+00],\n       [ 1.9000e-01, -5.9000e-01, -3.0300e+00,  5.2470e+01,  1.0895e+02,\n        -1.0890e+01],\n       [ 4.0000e-02, -3.7000e-01, -2.7000e+00,  5.6340e+01,  1.6979e+02,\n        -3.5990e+01],\n       [-2.0000e-01, -3.2000e-01, -2.4600e+00,  1.2050e+01,  2.2924e+02,\n        -5.5890e+01],\n       [-3.9000e-01, -5.0000e-01, -2.2900e+00,  1.0460e+01,  2.3481e+02,\n        -6.1810e+01],\n       [-4.4000e-01, -4.5000e-01, -2.1100e+00,  6.1870e+01,  2.4999e+02,\n        -5.9690e+01],\n       [-4.5000e-01, -2.4000e-01, -1.7900e+00,  8.3300e+01,  2.4999e+02,\n        -6.4280e+01],\n       [-5.2000e-01, -1.2000e-01, -1.5200e+00,  4.5560e+01,  2.4999e+02,\n        -8.6590e+01],\n       [-5.5000e-01, -1.3000e-01, -1.3900e+00, -1.3190e+01,  2.4999e+02,\n        -9.8570e+01],\n       [-4.9000e-01, -1.9000e-01, -1.2700e+00, -9.7400e+00,  2.4999e+02,\n        -9.2360e+01],\n       [-5.0000e-01, -2.1000e-01, -1.1100e+00, -9.0000e-01,  2.4999e+02,\n        -8.7590e+01],\n       [-3.7000e-01, -8.0000e-02, -8.5000e-01,  5.9310e+01,  2.4593e+02,\n        -6.9790e+01],\n       [-3.4000e-01, -8.0000e-02, -6.5000e-01,  5.0840e+01,  2.3522e+02,\n        -6.9340e+01],\n       [-2.7000e-01, -1.4000e-01, -5.1000e-01,  8.7800e+00,  2.1318e+02,\n        -8.5930e+01],\n       [-2.0000e-01, -9.0000e-02, -4.4000e-01,  1.7810e+01,  2.0498e+02,\n        -9.2120e+01]])"
     },
     "metadata": {},
     "output_type": "execute_result",
     "execution_count": 8
    }
   ],
   "source": [
    "\"\"\"\n",
    "Test invoking the model\n",
    "\"\"\"\n",
    "import keras\n",
    "from keras.utils import to_categorical\n",
    "\n",
    "test_sample = x_test[20331]\n",
    "test_sample"
   ],
   "metadata": {
    "collapsed": false,
    "pycharm": {
     "name": "#%%\n",
     "is_executing": false
    }
   }
  },
  {
   "cell_type": "code",
   "execution_count": 18,
   "outputs": [
    {
     "data": {
      "text/plain": "0.6423768774013273"
     },
     "metadata": {},
     "output_type": "execute_result",
     "execution_count": 18
    }
   ],
   "source": [
    "from sklearn.metrics import accuracy_score\n",
    "\n",
    "y_traincat = to_categorical(y_train)\n",
    "y_testcat = to_categorical(y_test)\n",
    "model = keras.models.load_model('lstm_model')\n",
    "test_preds = model.predict_classes(x_test)\n",
    "accuracy_score(y_testcat, test_preds)"
   ],
   "metadata": {
    "collapsed": false,
    "pycharm": {
     "name": "#%%\n",
     "is_executing": false
    }
   }
  }
 ],
 "metadata": {
  "kernelspec": {
   "display_name": "Python 3",
   "language": "python",
   "name": "python3"
  },
  "language_info": {
   "codemirror_mode": {
    "name": "ipython",
    "version": 2
   },
   "file_extension": ".py",
   "mimetype": "text/x-python",
   "name": "python",
   "nbconvert_exporter": "python",
   "pygments_lexer": "ipython2",
   "version": "2.7.6"
  },
  "pycharm": {
   "stem_cell": {
    "cell_type": "raw",
    "source": [],
    "metadata": {
     "collapsed": false
    }
   }
  }
 },
 "nbformat": 4,
 "nbformat_minor": 0
}