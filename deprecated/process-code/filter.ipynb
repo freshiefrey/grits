{
 "cells": [
  {
   "cell_type": "code",
   "execution_count": null,
   "metadata": {
    "collapsed": true
   },
   "outputs": [],
   "source": [
    "from pandas import read_csv\n",
    "import matplotlib.pyplot as plt\n",
    "import warnings\n",
    "warnings.filterwarnings(\"ignore\")\n",
    "\n",
    "buddha_df = read_csv('raw_data/individual_data/jeff_buddhaClap.csv')"
   ]
  },
  {
   "cell_type": "code",
   "execution_count": 5,
   "metadata": {},
   "outputs": [],
   "source": [
    "import numpy as np\n",
    "#Seconds to generate data for\n",
    "sec = 3\n",
    "# time range with total samples of 1000 from 0 to 3 with time interval equals 3/1000\n",
    "time = np.linspace(0, sec, 1000, endpoint=True)"
   ]
  },
  {
   "cell_type": "code",
   "execution_count": 6,
   "metadata": {},
   "outputs": [],
   "source": [
    "# Generate Signal\n",
    "signal_freq = 2 # Signal Frequency\n",
    "signal_amplitude = 10 # Signal Amplitude\n",
    "#Sine wave Signal\n",
    "signal = signal_amplitude*np.sin(2*np.pi*signal_freq*time)"
   ]
  },
  {
   "cell_type": "code",
   "execution_count": 8,
   "metadata": {},
   "outputs": [],
   "source": [
    "# Lets add some noise to the Signal\n",
    "noise_freq = 50 # Noise Frequency\n",
    "noise_amplitude = 3 # Noise Amplitude\n",
    "#Sine wave Noise\n",
    "noise = noise_amplitude*np.sin(2*np.pi*noise_freq*time)# wave\n",
    "# Generated Signal with Noise\n",
    "signal_noise = signal + noise"
   ]
  },
  {
   "cell_type": "code",
   "execution_count": null,
   "metadata": {},
   "outputs": [],
   "source": []
  }
 ],
 "metadata": {
  "kernelspec": {
   "display_name": "Python 3",
   "language": "python",
   "name": "python3"
  },
  "language_info": {
   "codemirror_mode": {
    "name": "ipython",
    "version": 3
   },
   "file_extension": ".py",
   "mimetype": "text/x-python",
   "name": "python",
   "nbconvert_exporter": "python",
   "pygments_lexer": "ipython3",
   "version": "3.7.6"
  }
 },
 "nbformat": 4,
 "nbformat_minor": 1
}
