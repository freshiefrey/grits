{
 "metadata": {
  "language_info": {
   "codemirror_mode": {
    "name": "ipython",
    "version": 3
   },
   "file_extension": ".py",
   "mimetype": "text/x-python",
   "name": "python",
   "nbconvert_exporter": "python",
   "pygments_lexer": "ipython3",
   "version": "3.7.7-final"
  },
  "orig_nbformat": 2,
  "kernelspec": {
   "name": "python3",
   "display_name": "Python 3"
  }
 },
 "nbformat": 4,
 "nbformat_minor": 2,
 "cells": [
  {
   "cell_type": "code",
   "execution_count": 8,
   "metadata": {},
   "outputs": [],
   "source": [
    "\"\"\"\n",
    "test.ipynb used for testing models with test*.csv\n",
    "\n",
    "This notebook performs a trailing window on specified time series data with the following parameters:\n",
    "- window size\n",
    "- hops\n",
    "In our context, our data is collected on an average of 1 second per movement. Thus, setting our window\n",
    " frame as 1s, with a sampling rate of 50Hz would result in 50 samples per window.\n",
    "\"\"\"\n",
    "\n",
    "import pandas as pd\n",
    "import tensorflow as tf\n",
    "import numpy as np\n",
    "import xarray\n",
    "\n",
    "##change sampling parameters here\n",
    "total_samples = 3100*22*4\n",
    "window = 100\n",
    "overlap = 50\n",
    "num_gestures = 4\n",
    "data_columns = 6"
   ]
  },
  {
   "cell_type": "code",
   "execution_count": 2,
   "metadata": {},
   "outputs": [
    {
     "output_type": "stream",
     "name": "stdout",
     "text": [
      "start!\n(60, 100, 6)\nok!\n"
     ]
    },
    {
     "output_type": "execute_result",
     "data": {
      "text/plain": [
       "array([[[-1.6000e-01,  2.4000e-01, -1.1700e+00, -1.7240e+01,\n",
       "         -5.9320e+01,  5.3300e+00],\n",
       "        [-1.3000e-01,  3.1000e-01, -1.0800e+00,  1.5180e+01,\n",
       "         -4.5380e+01, -7.0000e-01],\n",
       "        [-3.0000e-02,  4.7000e-01, -1.0300e+00,  1.2030e+01,\n",
       "         -6.4000e+01,  1.2300e+00],\n",
       "        ...,\n",
       "        [-8.7000e-01,  2.0500e+00, -4.0000e+00, -1.8600e+00,\n",
       "         -5.2300e+00,  1.6240e+01],\n",
       "        [-1.2700e+00,  2.0200e+00, -4.0000e+00,  1.0570e+01,\n",
       "          7.8480e+01,  2.0840e+01],\n",
       "        [-1.3000e+00,  2.0300e+00, -4.0000e+00,  1.9780e+01,\n",
       "          1.4068e+02,  6.5530e+01]],\n",
       "\n",
       "       [[-1.4400e+00,  2.0700e+00, -3.7700e+00,  5.9460e+01,\n",
       "         -2.5000e+02, -7.6970e+01],\n",
       "        [-1.2000e+00,  1.8900e+00, -4.0000e+00,  2.6570e+01,\n",
       "         -2.0087e+02, -3.1170e+01],\n",
       "        [-9.3000e-01,  1.6600e+00, -4.0000e+00, -4.5410e+01,\n",
       "         -1.4078e+02, -8.3300e+00],\n",
       "        ...,\n",
       "        [-2.0800e+00,  6.4000e-01, -1.4800e+00, -5.3950e+01,\n",
       "          2.4999e+02,  1.1289e+02],\n",
       "        [-1.9300e+00,  4.1000e-01, -1.1000e+00, -4.6260e+01,\n",
       "          2.4999e+02,  1.2448e+02],\n",
       "        [-1.7200e+00,  2.8000e-01, -8.3000e-01, -4.1540e+01,\n",
       "          2.4999e+02,  1.3499e+02]],\n",
       "\n",
       "       [[-1.9700e+00,  1.2400e+00, -3.0600e+00, -1.0445e+02,\n",
       "          2.4999e+02,  9.5000e+01],\n",
       "        [-2.2800e+00,  8.3000e-01, -2.2700e+00, -5.3750e+01,\n",
       "          2.4999e+02,  1.0782e+02],\n",
       "        [-2.4400e+00,  8.1000e-01, -1.7800e+00, -5.2990e+01,\n",
       "          2.4999e+02,  1.1971e+02],\n",
       "        ...,\n",
       "        [-9.8000e-01, -2.4000e-01,  1.5000e-01, -4.9700e+00,\n",
       "          2.3471e+02,  1.4513e+02],\n",
       "        [-6.5000e-01, -3.0000e-01,  3.4000e-01,  1.5140e+01,\n",
       "          1.3423e+02,  1.2317e+02],\n",
       "        [-2.9000e-01, -2.5000e-01,  3.1000e-01,  5.9370e+01,\n",
       "          1.4887e+02,  8.2070e+01]],\n",
       "\n",
       "       ...,\n",
       "\n",
       "       [[ 2.5000e-01,  5.8000e-01, -3.1000e-01,  5.5950e+01,\n",
       "         -2.5000e+02,  7.6480e+01],\n",
       "        [ 2.3000e-01,  5.9000e-01, -3.3000e-01,  7.4580e+01,\n",
       "         -2.5000e+02,  6.4120e+01],\n",
       "        [ 3.2000e-01,  6.1000e-01, -3.2000e-01,  6.8310e+01,\n",
       "         -2.5000e+02,  5.2090e+01],\n",
       "        ...,\n",
       "        [ 8.6000e-01,  9.8000e-01,  6.0000e-01, -8.1670e+01,\n",
       "          1.3631e+02,  2.0080e+01],\n",
       "        [ 6.7000e-01,  7.0000e-01,  8.8000e-01, -1.2154e+02,\n",
       "          1.5637e+02,  4.9720e+01],\n",
       "        [ 2.1000e-01,  5.3000e-01,  9.5000e-01,  1.8180e+01,\n",
       "          1.1833e+02,  9.4420e+01]],\n",
       "\n",
       "       [[ 5.2000e-01,  5.5000e-01,  1.8000e-01, -4.1980e+01,\n",
       "         -2.5000e+02, -3.8700e+00],\n",
       "        [ 4.5000e-01,  6.7000e-01,  1.6000e-01,  5.4040e+01,\n",
       "         -2.2672e+02, -1.3170e+01],\n",
       "        [ 4.5000e-01,  8.4000e-01,  4.0000e-02,  8.2180e+01,\n",
       "         -2.1447e+02, -8.8200e+00],\n",
       "        ...,\n",
       "        [ 9.0000e-01,  9.5000e-01,  5.7000e-01, -7.3380e+01,\n",
       "          1.6171e+02, -3.3110e+01],\n",
       "        [ 7.3000e-01,  7.1000e-01,  6.2000e-01, -9.5340e+01,\n",
       "          2.0478e+02, -1.7810e+01],\n",
       "        [ 3.4000e-01,  6.2000e-01,  9.6000e-01, -1.4940e+01,\n",
       "          2.4294e+02, -8.0900e+00]],\n",
       "\n",
       "       [[-4.0000e-02,  7.5000e-01,  1.3900e+00,  1.8535e+02,\n",
       "          5.7950e+01,  6.1670e+01],\n",
       "        [ 1.7000e-01,  1.3600e+00,  1.4400e+00,  1.4946e+02,\n",
       "         -1.0471e+02,  1.7420e+01],\n",
       "        [ 4.5000e-01,  1.1100e+00,  1.0500e+00, -1.6900e+01,\n",
       "         -2.0154e+02,  3.0780e+01],\n",
       "        ...,\n",
       "        [ 9.5000e-01,  7.6000e-01,  6.3000e-01, -6.7130e+01,\n",
       "          1.7121e+02,  1.3440e+01],\n",
       "        [ 7.4000e-01,  7.6000e-01,  8.0000e-01, -4.7380e+01,\n",
       "          2.3405e+02,  1.0920e+01],\n",
       "        [ 4.3000e-01,  7.1000e-01,  1.2400e+00, -1.8150e+01,\n",
       "          2.4999e+02,  1.5220e+01]]])"
      ]
     },
     "metadata": {},
     "execution_count": 2
    }
   ],
   "source": [
    "\"\"\"\n",
    "Sliding window function and params\n",
    "\"\"\"\n",
    "from tqdm import tqdm\n",
    "from skimage.util.shape import view_as_windows\n",
    "import warnings\n",
    "\n",
    "csv = 'Mervin Test.csv'\n",
    "\n",
    "def sliding_window(a, L, overlap=1):\n",
    "    if L==overlap:\n",
    "        raise Exception(\"Overlap arg must be smaller than length of windows\")\n",
    "    S = L - overlap\n",
    "    nd0 = ((len(a)-L)//S)+1\n",
    "    if nd0*S-S!=len(a)-L:\n",
    "        warnings.warn(\"Not all elements were covered\")\n",
    "    output = view_as_windows(a, (L,a.shape[1]), step=S)[:,0,:,:]\n",
    "    print(output.shape)\n",
    "    return output\n",
    "\n",
    "total_array = np.empty((0,window,6))\n",
    "\n",
    "print('start!')\n",
    "df = pd.read_csv(csv)\n",
    "window_array = sliding_window(df.to_numpy(), window, overlap=overlap)\n",
    "total_array = np.append(total_array, window_array, axis = 0)\n",
    "print('ok!')\n",
    "total_array"
   ]
  },
  {
   "cell_type": "code",
   "execution_count": 3,
   "metadata": {},
   "outputs": [
    {
     "output_type": "execute_result",
     "data": {
      "text/plain": [
       "(60, 100, 6)"
      ]
     },
     "metadata": {},
     "execution_count": 3
    }
   ],
   "source": [
    "total_array.shape"
   ]
  },
  {
   "cell_type": "code",
   "execution_count": 4,
   "metadata": {},
   "outputs": [
    {
     "output_type": "stream",
     "name": "stdout",
     "text": [
      "shape of arr:  (60, 100, 6)\nshape of load_original_arr:  (60, 100, 6)\nYes, both the arrays are same\n"
     ]
    }
   ],
   "source": [
    "\"\"\"\n",
    "Save into txt file\n",
    "\"\"\"\n",
    "arr = total_array\n",
    "  \n",
    "# reshaping the array from 3D \n",
    "# matrice to 2D matrice. \n",
    "arr_reshaped = arr.reshape(arr.shape[0], -1) \n",
    "  \n",
    "# saving reshaped array to file. \n",
    "np.savetxt(\"Mervin_test_data.txt\", arr_reshaped) \n",
    "  \n",
    "# retrieving data from file. \n",
    "loaded_arr = np.loadtxt(\"Mervin_test_data.txt\") \n",
    "  \n",
    "# This loadedArr is a 2D array, therefore \n",
    "# we need to convert it to the original \n",
    "# array shape.reshaping to get original \n",
    "# matrice with original shape. \n",
    "load_original_arr = loaded_arr.reshape( \n",
    "    loaded_arr.shape[0], loaded_arr.shape[1] // arr.shape[2], arr.shape[2]) \n",
    "  \n",
    "# check the shapes: \n",
    "print(\"shape of arr: \", arr.shape) \n",
    "print(\"shape of load_original_arr: \", load_original_arr.shape) \n",
    "  \n",
    "# check if both arrays are same or not: \n",
    "if (load_original_arr == arr).all(): \n",
    "    print(\"Yes, both the arrays are same\") \n",
    "else: \n",
    "    print(\"No, both the arrays are not same\") "
   ]
  },
  {
   "source": [
    "# Testing the model"
   ],
   "cell_type": "markdown",
   "metadata": {}
  },
  {
   "cell_type": "code",
   "execution_count": 5,
   "metadata": {},
   "outputs": [],
   "source": [
    "from keras.models import load_model\n",
    "\n",
    "model_name = '../lstm_models/lstm_model_100_50_96%'\n",
    "\n",
    "model = load_model(model_name)"
   ]
  },
  {
   "cell_type": "code",
   "execution_count": 9,
   "metadata": {},
   "outputs": [],
   "source": [
    "loaded_arr2 = np.loadtxt('Mervin_test_data.txt')\n",
    "x_test = loaded_arr2.reshape(loaded_arr2.shape[0], loaded_arr2.shape[1] // data_columns, data_columns)"
   ]
  },
  {
   "cell_type": "code",
   "execution_count": 10,
   "metadata": {},
   "outputs": [],
   "source": [
    "y_pred = model.predict(x_test)"
   ]
  },
  {
   "cell_type": "code",
   "execution_count": 12,
   "metadata": {},
   "outputs": [
    {
     "output_type": "stream",
     "name": "stdout",
     "text": [
      "[9.99856234e-01 6.27867337e-07 2.84920661e-05 1.14642266e-04]\n[1. 0. 0. 0.]\n"
     ]
    }
   ],
   "source": [
    "rounded = np.round(y_pred)\n",
    "\n",
    "print(y_pred[0])\n",
    "print(rounded[0])"
   ]
  },
  {
   "cell_type": "code",
   "execution_count": 13,
   "metadata": {},
   "outputs": [
    {
     "output_type": "stream",
     "name": "stdout",
     "text": [
      "['Buddha clap' 'Knob' 'Pushback' 'Swipe']\n<class 'numpy.ndarray'>\n"
     ]
    }
   ],
   "source": [
    "if num_gestures == 4:\n",
    "    class_names = [\"Buddha clap\", \"Knob\", \"Pushback\", \"Swipe\"]\n",
    "elif num_gestures == 5:\n",
    "    class_names = [\"Buddha clap\", \"Crank\", \"Knob\", \"Pushback\", \"Swipe\"]\n",
    "elif num_gestures == 7:\n",
    "    class_names = [\"Buddha clap\", \"Crank left\", \"Crank right\", \"Knob left\", \"Knob right\", \"Pushback\", \"Swipe\"]\n",
    "\n",
    "name = np.array(class_names)\n",
    "print(name)\n",
    "print(type(name))"
   ]
  },
  {
   "cell_type": "code",
   "execution_count": 14,
   "metadata": {},
   "outputs": [],
   "source": [
    "from sklearn.preprocessing import OneHotEncoder\n",
    "\n",
    "enc = OneHotEncoder(handle_unknown='ignore', sparse=False)\n",
    "\n",
    "enc = enc.fit(name.reshape(-1, 1))\n",
    "y_pred = enc.inverse_transform(rounded)"
   ]
  },
  {
   "cell_type": "code",
   "execution_count": 15,
   "metadata": {},
   "outputs": [
    {
     "output_type": "stream",
     "name": "stdout",
     "text": [
      "[['Buddha clap']\n ['Buddha clap']\n ['Buddha clap']\n ['Buddha clap']\n ['Buddha clap']\n ['Buddha clap']\n ['Buddha clap']\n ['Buddha clap']\n ['Swipe']\n ['Swipe']\n ['Swipe']\n ['Swipe']\n ['Swipe']\n ['Swipe']\n ['Swipe']\n ['Swipe']\n ['Knob']\n ['Knob']\n ['Knob']\n ['Knob']\n ['Knob']\n ['Knob']\n ['Knob']\n ['Knob']\n ['Knob']\n ['Swipe']\n ['Swipe']\n ['Swipe']\n ['Buddha clap']\n ['Swipe']\n ['Swipe']\n ['Swipe']\n ['Swipe']\n [None]\n ['Pushback']\n ['Pushback']\n ['Pushback']\n ['Pushback']\n ['Pushback']\n ['Pushback']\n ['Pushback']\n ['Pushback']\n ['Pushback']\n ['Pushback']\n ['Pushback']\n [None]\n ['Swipe']\n ['Swipe']\n ['Swipe']\n ['Swipe']\n ['Swipe']\n ['Swipe']\n ['Swipe']\n ['Swipe']\n ['Swipe']\n ['Buddha clap']\n ['Buddha clap']\n ['Pushback']\n ['Buddha clap']\n ['Swipe']]\n"
     ]
    }
   ],
   "source": [
    "print(y_pred)"
   ]
  },
  {
   "cell_type": "code",
   "execution_count": 16,
   "metadata": {},
   "outputs": [
    {
     "output_type": "stream",
     "name": "stdout",
     "text": [
      "Prediction: ['Buddha clap']\nPrediction: ['Buddha clap']\nPrediction: ['Buddha clap']\nPrediction: ['Buddha clap']\nPrediction: ['Buddha clap']\nPrediction: ['Buddha clap']\nPrediction: ['Buddha clap']\nPrediction: ['Buddha clap']\nPrediction: ['Swipe']\nPrediction: ['Swipe']\nPrediction: ['Swipe']\nPrediction: ['Swipe']\nPrediction: ['Swipe']\nPrediction: ['Swipe']\nPrediction: ['Swipe']\nPrediction: ['Swipe']\nPrediction: ['Knob']\nPrediction: ['Knob']\nPrediction: ['Knob']\nPrediction: ['Knob']\nPrediction: ['Knob']\nPrediction: ['Knob']\nPrediction: ['Knob']\nPrediction: ['Knob']\nPrediction: ['Knob']\nPrediction: ['Swipe']\nPrediction: ['Swipe']\nPrediction: ['Swipe']\nPrediction: ['Buddha clap']\nPrediction: ['Swipe']\nPrediction: ['Swipe']\nPrediction: ['Swipe']\nPrediction: ['Swipe']\nPrediction: [None]\nPrediction: ['Pushback']\nPrediction: ['Pushback']\nPrediction: ['Pushback']\nPrediction: ['Pushback']\nPrediction: ['Pushback']\nPrediction: ['Pushback']\nPrediction: ['Pushback']\nPrediction: ['Pushback']\nPrediction: ['Pushback']\nPrediction: ['Pushback']\nPrediction: ['Pushback']\nPrediction: [None]\nPrediction: ['Swipe']\nPrediction: ['Swipe']\nPrediction: ['Swipe']\nPrediction: ['Swipe']\nPrediction: ['Swipe']\nPrediction: ['Swipe']\nPrediction: ['Swipe']\nPrediction: ['Swipe']\nPrediction: ['Swipe']\nPrediction: ['Buddha clap']\nPrediction: ['Buddha clap']\nPrediction: ['Pushback']\nPrediction: ['Buddha clap']\nPrediction: ['Swipe']\n"
     ]
    }
   ],
   "source": [
    "output = []\n",
    "\n",
    "for i in range(len(y_pred)):\n",
    "        output.append(y_pred[i])\n",
    "        print(\"Prediction: %s\" % (y_pred[i]))"
   ]
  },
  {
   "cell_type": "code",
   "execution_count": 18,
   "metadata": {},
   "outputs": [],
   "source": [
    "import csv\n",
    "from datetime import datetime\n",
    "\n",
    "fields = ['Predicted']\n",
    "now = datetime.now()\n",
    "file = 'output ' + now.strftime(\"%d-%m-%Y %H-%M-%S\") + '.csv'\n",
    "with open(file, 'w', newline='') as filename:\n",
    "    write = csv.writer(filename)\n",
    "    write.writerow(fields)\n",
    "    write.writerows(output)\n"
   ]
  },
  {
   "cell_type": "code",
   "execution_count": null,
   "metadata": {},
   "outputs": [],
   "source": []
  }
 ]
}