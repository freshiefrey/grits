{
 "metadata": {
  "language_info": {
   "codemirror_mode": {
    "name": "ipython",
    "version": 3
   },
   "file_extension": ".py",
   "mimetype": "text/x-python",
   "name": "python",
   "nbconvert_exporter": "python",
   "pygments_lexer": "ipython3",
   "version": "3.7.7-final"
  },
  "orig_nbformat": 2,
  "kernelspec": {
   "name": "python3",
   "display_name": "Python 3"
  }
 },
 "nbformat": 4,
 "nbformat_minor": 2,
 "cells": [
  {
   "cell_type": "code",
   "execution_count": 38,
   "metadata": {},
   "outputs": [],
   "source": [
    "# Run for GPU/CUDA ML, comment out if you dont have it configured.\n",
    "import tensorflow as tf\n",
    "gpu_devices = tf.config.list_physical_devices('GPU')\n",
    "tf.config.experimental.set_memory_growth(gpu_devices[0], True)"
   ]
  },
  {
   "cell_type": "code",
   "execution_count": 39,
   "metadata": {},
   "outputs": [],
   "source": [
    "\"\"\"\n",
    "test.ipynb used for testing models with test*.csv\n",
    "\n",
    "This notebook performs a trailing window on specified time series data with the following parameters:\n",
    "- window size\n",
    "- hops\n",
    "In our context, our data is collected on an average of 1 second per movement. Thus, setting our window\n",
    " frame as 1s, with a sampling rate of 50Hz would result in 50 samples per window.\n",
    "\"\"\"\n",
    "\n",
    "import pandas as pd\n",
    "import tensorflow as tf\n",
    "import numpy as np\n",
    "import xarray\n",
    "\n",
    "##change sampling parameters here\n",
    "total_samples = 3100*22*4\n",
    "window = 100\n",
    "overlap = 50\n",
    "num_gestures = 4\n",
    "data_columns = 6"
   ]
  },
  {
   "cell_type": "code",
   "execution_count": 40,
   "metadata": {},
   "outputs": [
    {
     "output_type": "stream",
     "name": "stdout",
     "text": [
      "start!\nok!\n"
     ]
    },
    {
     "output_type": "execute_result",
     "data": {
      "text/plain": [
       "array([[[ 4.4000e-01,  5.0000e-01,  8.6000e-01, -8.6600e+00,\n",
       "          4.7000e-01,  5.9100e+00],\n",
       "        [ 4.4000e-01,  5.1000e-01,  8.5000e-01, -8.8300e+00,\n",
       "         -4.3200e+00,  5.9200e+00],\n",
       "        [ 4.7000e-01,  5.3000e-01,  8.3000e-01, -1.3740e+01,\n",
       "         -5.9100e+00,  1.0700e+01],\n",
       "        [ 4.8000e-01,  5.0000e-01,  8.4000e-01, -1.8520e+01,\n",
       "         -1.5400e+00,  1.4150e+01],\n",
       "        [ 4.7000e-01,  4.5000e-01,  8.4000e-01, -1.2370e+01,\n",
       "          8.0000e-01,  1.2220e+01],\n",
       "        [ 4.5000e-01,  4.8000e-01,  8.6000e-01, -2.3400e+00,\n",
       "          1.9800e+00,  8.9600e+00],\n",
       "        [ 4.6000e-01,  4.7000e-01,  8.5000e-01, -3.0100e+00,\n",
       "         -5.7000e-01,  7.2100e+00],\n",
       "        [ 4.6000e-01,  4.5000e-01,  8.4000e-01,  1.1100e+00,\n",
       "          2.9100e+00,  3.6000e+00],\n",
       "        [ 4.3000e-01,  4.9000e-01,  8.5000e-01,  3.6700e+00,\n",
       "         -1.0000e-02,  1.2000e-01],\n",
       "        [ 4.4000e-01,  5.2000e-01,  8.4000e-01,  1.0100e+00,\n",
       "         -4.9200e+00,  2.9100e+00],\n",
       "        [ 4.7000e-01,  5.1000e-01,  8.1000e-01, -5.1600e+00,\n",
       "         -4.1100e+00,  7.6300e+00],\n",
       "        [ 4.7000e-01,  4.8000e-01,  8.4000e-01, -1.2340e+01,\n",
       "          1.9800e+00,  1.1420e+01],\n",
       "        [ 4.5000e-01,  4.6000e-01,  8.5000e-01, -1.3530e+01,\n",
       "          2.0000e-02,  1.3370e+01],\n",
       "        [ 4.4000e-01,  4.9000e-01,  8.8000e-01, -1.5590e+01,\n",
       "         -1.0310e+01,  1.5310e+01],\n",
       "        [ 4.9000e-01,  5.0000e-01,  8.5000e-01, -2.3360e+01,\n",
       "         -1.6530e+01,  2.1640e+01],\n",
       "        [ 5.4000e-01,  4.1000e-01,  8.1000e-01, -2.9860e+01,\n",
       "         -9.0700e+00,  3.2490e+01],\n",
       "        [ 4.7000e-01,  4.1000e-01,  8.3000e-01, -2.6600e+01,\n",
       "         -2.9200e+00,  3.2460e+01],\n",
       "        [ 4.4000e-01,  5.1000e-01,  9.0000e-01, -5.4340e+01,\n",
       "         -2.8180e+01,  3.7590e+01],\n",
       "        [ 5.3000e-01,  4.6000e-01,  8.8000e-01, -7.9710e+01,\n",
       "         -4.5300e+01,  6.0100e+01],\n",
       "        [ 5.8000e-01,  2.7000e-01,  8.3000e-01, -8.3780e+01,\n",
       "         -4.6930e+01,  7.5170e+01],\n",
       "        [ 6.2000e-01, -2.0000e-02,  8.1000e-01, -4.6650e+01,\n",
       "         -4.0420e+01,  4.3050e+01],\n",
       "        [ 6.6000e-01, -2.4000e-01,  7.6000e-01,  9.4100e+00,\n",
       "         -4.2830e+01,  2.0100e+00],\n",
       "        [ 6.9000e-01, -1.0000e-02,  7.2000e-01,  9.4890e+01,\n",
       "         -2.9750e+01, -7.3290e+01],\n",
       "        [ 6.3000e-01,  1.4000e-01,  7.1000e-01,  1.0163e+02,\n",
       "         -1.7680e+01, -1.0056e+02],\n",
       "        [ 6.3000e-01,  2.6000e-01,  8.1000e-01,  1.0002e+02,\n",
       "         -1.8480e+01, -1.1181e+02],\n",
       "        [ 6.9000e-01, -2.1000e-01,  6.0000e-01,  2.4999e+02,\n",
       "          4.5080e+01, -2.0670e+02],\n",
       "        [ 2.0000e-01,  2.9000e-01,  2.8000e-01,  2.4999e+02,\n",
       "          9.8650e+01, -2.5000e+02],\n",
       "        [ 1.0000e-01,  7.4000e-01, -1.0000e-02,  2.4999e+02,\n",
       "          9.0620e+01, -2.5000e+02],\n",
       "        [-6.0000e-02,  9.0000e-01, -2.4000e-01,  2.4999e+02,\n",
       "          1.6975e+02, -2.5000e+02],\n",
       "        [-5.2000e-01,  4.3000e-01, -5.9000e-01,  2.4999e+02,\n",
       "          2.3404e+02, -2.5000e+02],\n",
       "        [-7.3000e-01,  1.9000e-01, -8.9000e-01,  2.4999e+02,\n",
       "          2.4999e+02, -2.5000e+02],\n",
       "        [-9.8000e-01,  3.7000e-01, -1.2700e+00,  2.4999e+02,\n",
       "          2.2179e+02, -2.5000e+02],\n",
       "        [-9.2000e-01,  9.0000e-01, -1.7600e+00,  2.4999e+02,\n",
       "          2.1556e+02, -2.5000e+02],\n",
       "        [-5.4000e-01,  1.5000e+00, -1.2400e+00,  2.4999e+02,\n",
       "          1.7822e+02, -1.5339e+02],\n",
       "        [-7.3000e-01,  5.9000e-01, -1.0400e+00,  1.4487e+02,\n",
       "          1.4821e+02,  4.8100e+00],\n",
       "        [-9.0000e-01,  1.0000e-01, -9.3000e-01,  8.1510e+01,\n",
       "          7.2180e+01,  3.9920e+01],\n",
       "        [-4.5000e-01, -1.1000e-01, -1.0100e+00, -4.8800e+00,\n",
       "         -3.2600e+01,  9.6100e+00],\n",
       "        [-2.2000e-01, -1.5000e-01, -1.2200e+00,  4.6580e+01,\n",
       "         -4.0800e+00, -1.1760e+01],\n",
       "        [-2.9000e-01,  5.4000e-01, -1.0900e+00, -1.3283e+02,\n",
       "          8.0000e-01,  3.1320e+01],\n",
       "        [-2.8000e-01,  1.4000e-01, -9.9000e-01, -2.2894e+02,\n",
       "         -7.0900e+00,  5.2220e+01],\n",
       "        [-2.5000e-01, -6.0000e-02, -9.0000e-01, -1.8880e+02,\n",
       "         -1.4000e-01,  2.6530e+01],\n",
       "        [-3.9000e-01,  2.3000e-01, -7.6000e-01, -9.4110e+01,\n",
       "         -1.1920e+01, -3.7600e+00],\n",
       "        [-3.4000e-01,  2.1000e-01, -8.3000e-01, -4.9740e+01,\n",
       "         -2.6790e+01,  3.1400e+00],\n",
       "        [-3.5000e-01,  4.1000e-01, -9.1000e-01, -5.1320e+01,\n",
       "         -3.1960e+01,  5.6700e+00],\n",
       "        [-4.0000e-01,  6.4000e-01, -9.1000e-01, -1.5233e+02,\n",
       "         -3.2510e+01,  1.6400e+01],\n",
       "        [-4.6000e-01,  5.0000e-01, -8.6000e-01, -2.0467e+02,\n",
       "         -4.4190e+01,  4.2240e+01],\n",
       "        [-4.8000e-01,  6.4000e-01, -8.0000e-01, -2.3946e+02,\n",
       "         -7.7450e+01,  9.3610e+01],\n",
       "        [-5.3000e-01,  9.2000e-01, -8.7000e-01, -2.5000e+02,\n",
       "         -9.8370e+01,  1.2656e+02],\n",
       "        [-5.2000e-01,  1.0600e+00, -8.9000e-01, -2.5000e+02,\n",
       "         -1.0073e+02,  1.6830e+02],\n",
       "        [-4.9000e-01,  9.0000e-01, -8.1000e-01, -2.5000e+02,\n",
       "         -1.0390e+02,  1.9297e+02],\n",
       "        [-4.6000e-01,  8.3000e-01, -6.7000e-01, -2.5000e+02,\n",
       "         -1.1279e+02,  2.0040e+02],\n",
       "        [-4.7000e-01,  9.0000e-01, -4.8000e-01, -2.5000e+02,\n",
       "         -1.2714e+02,  2.0141e+02],\n",
       "        [-3.7000e-01,  1.0400e+00, -3.3000e-01, -2.5000e+02,\n",
       "         -1.6963e+02,  2.2726e+02],\n",
       "        [-1.6000e-01,  9.5000e-01, -1.8000e-01, -2.5000e+02,\n",
       "         -1.7629e+02,  2.4999e+02],\n",
       "        [-1.1000e-01,  9.0000e-01,  7.0000e-02, -2.5000e+02,\n",
       "         -1.5670e+02,  2.4999e+02],\n",
       "        [ 3.0000e-02,  8.5000e-01,  1.5000e-01, -2.5000e+02,\n",
       "         -1.6856e+02,  2.4999e+02],\n",
       "        [ 3.7000e-01,  5.2000e-01,  2.0000e-01, -2.5000e+02,\n",
       "         -1.5546e+02,  2.4999e+02],\n",
       "        [ 5.4000e-01,  4.1000e-01,  2.9000e-01, -1.9205e+02,\n",
       "         -9.9570e+01,  2.2898e+02],\n",
       "        [ 4.4000e-01,  5.0000e-01,  4.5000e-01, -1.5876e+02,\n",
       "         -5.5650e+01,  1.8799e+02],\n",
       "        [ 4.9000e-01,  3.7000e-01,  6.0000e-01, -1.3873e+02,\n",
       "         -6.8380e+01,  1.3584e+02],\n",
       "        [ 7.1000e-01,  2.1000e-01,  6.0000e-01, -8.9950e+01,\n",
       "         -7.1590e+01,  8.5360e+01],\n",
       "        [ 7.8000e-01,  3.2000e-01,  5.2000e-01, -1.3900e+00,\n",
       "         -1.9660e+01,  1.9010e+01],\n",
       "        [ 7.3000e-01,  5.0000e-01,  5.6000e-01, -4.8000e+00,\n",
       "          2.2510e+01, -7.5900e+00],\n",
       "        [ 6.4000e-01,  4.5000e-01,  6.4000e-01,  1.2300e+00,\n",
       "          2.3200e+01, -1.0480e+01],\n",
       "        [ 6.1000e-01,  4.6000e-01,  6.6000e-01,  1.8220e+01,\n",
       "          1.7650e+01, -1.5570e+01],\n",
       "        [ 6.4000e-01,  6.0000e-01,  6.4000e-01,  2.1670e+01,\n",
       "          1.1710e+01, -1.3580e+01],\n",
       "        [ 6.4000e-01,  5.8000e-01,  6.4000e-01,  2.0500e+00,\n",
       "          1.6280e+01, -3.5100e+00],\n",
       "        [ 6.0000e-01,  5.4000e-01,  6.5000e-01,  3.1700e+00,\n",
       "          1.8440e+01, -5.2500e+00],\n",
       "        [ 6.1000e-01,  5.6000e-01,  6.6000e-01,  1.3300e+01,\n",
       "          1.5720e+01, -1.6630e+01],\n",
       "        [ 6.2000e-01,  6.1000e-01,  6.7000e-01,  1.6450e+01,\n",
       "          1.7310e+01, -2.0600e+01],\n",
       "        [ 6.0000e-01,  6.5000e-01,  6.7000e-01,  1.2570e+01,\n",
       "          1.8200e+01, -1.8600e+01],\n",
       "        [ 5.6000e-01,  6.3000e-01,  6.6000e-01,  2.2800e+00,\n",
       "          1.3610e+01, -1.0660e+01],\n",
       "        [ 5.6000e-01,  6.1000e-01,  6.7000e-01,  1.4600e+00,\n",
       "          7.9700e+00, -1.0190e+01],\n",
       "        [ 5.6000e-01,  6.1000e-01,  6.7000e-01,  2.5300e+00,\n",
       "          5.1800e+00, -1.1400e+01],\n",
       "        [ 5.9000e-01,  6.3000e-01,  6.5000e-01,  9.8000e+00,\n",
       "          4.0000e+00, -8.7700e+00],\n",
       "        [ 5.9000e-01,  6.1000e-01,  6.1000e-01,  5.5700e+00,\n",
       "          9.5400e+00, -5.7300e+00],\n",
       "        [ 5.5000e-01,  6.3000e-01,  6.3000e-01,  3.5100e+00,\n",
       "          1.1510e+01, -6.4900e+00],\n",
       "        [ 5.5000e-01,  6.5000e-01,  6.6000e-01, -4.1500e+00,\n",
       "          6.6700e+00, -7.7200e+00],\n",
       "        [ 5.7000e-01,  6.5000e-01,  6.6000e-01, -6.0600e+00,\n",
       "          5.8100e+00, -2.9400e+00],\n",
       "        [ 5.8000e-01,  6.5000e-01,  6.5000e-01, -5.9000e+00,\n",
       "          9.2500e+00,  3.5800e+00],\n",
       "        [ 5.5000e-01,  6.3000e-01,  6.7000e-01, -5.5400e+00,\n",
       "          1.1910e+01,  6.6000e+00],\n",
       "        [ 5.3000e-01,  6.1000e-01,  6.9000e-01, -4.5500e+00,\n",
       "          1.8600e+00,  1.9800e+00],\n",
       "        [ 5.9000e-01,  5.9000e-01,  6.4000e-01,  6.5000e-01,\n",
       "          3.1100e+00, -5.0000e+00],\n",
       "        [ 5.7000e-01,  6.2000e-01,  6.4000e-01,  4.3600e+00,\n",
       "          7.5800e+00, -7.9000e+00],\n",
       "        [ 5.7000e-01,  6.2000e-01,  6.4000e-01,  3.9400e+00,\n",
       "          1.0590e+01, -7.7400e+00],\n",
       "        [ 5.3000e-01,  6.7000e-01,  7.1000e-01, -7.2000e+00,\n",
       "          4.8800e+00, -1.4000e-01],\n",
       "        [ 5.7000e-01,  6.3000e-01,  6.7000e-01, -7.9800e+00,\n",
       "          2.0000e-01,  4.6400e+00],\n",
       "        [ 5.7000e-01,  6.0000e-01,  6.6000e-01,  3.4000e+00,\n",
       "          7.9900e+00, -3.3000e+00],\n",
       "        [ 5.3000e-01,  6.5000e-01,  6.7000e-01,  1.0600e+00,\n",
       "          9.2500e+00, -1.8700e+00],\n",
       "        [ 5.4000e-01,  6.7000e-01,  6.7000e-01, -7.5500e+00,\n",
       "          6.7600e+00,  6.2600e+00],\n",
       "        [ 5.5000e-01,  6.5000e-01,  6.8000e-01, -1.4880e+01,\n",
       "          5.3800e+00,  1.2180e+01],\n",
       "        [ 5.4000e-01,  5.8000e-01,  6.8000e-01, -1.4080e+01,\n",
       "          5.3200e+00,  1.2190e+01],\n",
       "        [ 5.4000e-01,  5.6000e-01,  6.8000e-01, -5.7200e+00,\n",
       "          6.2200e+00,  6.1900e+00],\n",
       "        [ 5.5000e-01,  5.8000e-01,  6.9000e-01,  3.4000e+00,\n",
       "          5.8300e+00,  9.7000e-01],\n",
       "        [ 5.4000e-01,  6.1000e-01,  7.1000e-01,  4.8100e+00,\n",
       "          4.0400e+00, -2.7200e+00],\n",
       "        [ 5.6000e-01,  6.1000e-01,  6.9000e-01,  2.9400e+00,\n",
       "          3.5200e+00, -3.7200e+00],\n",
       "        [ 5.4000e-01,  6.1000e-01,  6.8000e-01,  2.1700e+00,\n",
       "          5.8500e+00, -1.3400e+00],\n",
       "        [ 5.4000e-01,  6.1000e-01,  6.9000e-01,  3.6900e+00,\n",
       "          2.9500e+00, -3.0000e-01],\n",
       "        [ 5.5000e-01,  6.2000e-01,  6.9000e-01,  2.2900e+00,\n",
       "          1.6900e+00, -1.1700e+00],\n",
       "        [ 5.6000e-01,  6.3000e-01,  6.8000e-01,  3.4000e-01,\n",
       "          1.9000e+00, -1.2200e+00]]])"
      ]
     },
     "metadata": {},
     "execution_count": 40
    }
   ],
   "source": [
    "\"\"\"\n",
    "Sliding window function and params\n",
    "\"\"\"\n",
    "from tqdm import tqdm\n",
    "from skimage.util.shape import view_as_windows\n",
    "import warnings\n",
    "\n",
    "csv = 'temp_testing_sample4.csv'\n",
    "\n",
    "total_array = np.empty((0,window,6))\n",
    "\n",
    "print('start!')\n",
    "df = pd.read_csv(csv, header=None)\n",
    "total_array = df.to_numpy()\n",
    "load_original_arr = total_array.reshape(1, window, 6)\n",
    "print('ok!')\n",
    "load_original_arr"
   ]
  },
  {
   "cell_type": "code",
   "execution_count": 41,
   "metadata": {},
   "outputs": [
    {
     "output_type": "execute_result",
     "data": {
      "text/plain": [
       "(1, 100, 6)"
      ]
     },
     "metadata": {},
     "execution_count": 41
    }
   ],
   "source": [
    "load_original_arr.shape"
   ]
  },
  {
   "source": [
    "# Testing the model"
   ],
   "cell_type": "markdown",
   "metadata": {}
  },
  {
   "cell_type": "code",
   "execution_count": 42,
   "metadata": {},
   "outputs": [],
   "source": [
    "from keras.models import load_model\n",
    "\n",
    "model_name = '../lstm_models/lstm_model_100_50_96%'\n",
    "\n",
    "model = load_model(model_name)"
   ]
  },
  {
   "cell_type": "code",
   "execution_count": 43,
   "metadata": {},
   "outputs": [],
   "source": [
    "x_test = load_original_arr"
   ]
  },
  {
   "cell_type": "code",
   "execution_count": 44,
   "metadata": {},
   "outputs": [],
   "source": [
    "y_pred = model.predict(x_test)"
   ]
  },
  {
   "cell_type": "code",
   "execution_count": 45,
   "metadata": {},
   "outputs": [
    {
     "output_type": "stream",
     "name": "stdout",
     "text": [
      "[8.0989784e-04 9.5045972e-01 7.4824660e-05 4.8655592e-02]\n[0. 1. 0. 0.]\n"
     ]
    }
   ],
   "source": [
    "rounded = np.round(y_pred)\n",
    "\n",
    "print(y_pred[0])\n",
    "print(rounded[0])"
   ]
  },
  {
   "cell_type": "code",
   "execution_count": 46,
   "metadata": {},
   "outputs": [
    {
     "output_type": "stream",
     "name": "stdout",
     "text": [
      "['Buddha clap' 'Knob' 'Pushback' 'Swipe']\n<class 'numpy.ndarray'>\n"
     ]
    }
   ],
   "source": [
    "if num_gestures == 4:\n",
    "    class_names = [\"Buddha clap\", \"Knob\", \"Pushback\", \"Swipe\"]\n",
    "elif num_gestures == 5:\n",
    "    class_names = [\"Buddha clap\", \"Crank\", \"Knob\", \"Pushback\", \"Swipe\"]\n",
    "elif num_gestures == 7:\n",
    "    class_names = [\"Buddha clap\", \"Crank left\", \"Crank right\", \"Knob left\", \"Knob right\", \"Pushback\", \"Swipe\"]\n",
    "\n",
    "name = np.array(class_names)\n",
    "print(name)\n",
    "print(type(name))"
   ]
  },
  {
   "cell_type": "code",
   "execution_count": 47,
   "metadata": {},
   "outputs": [],
   "source": [
    "from sklearn.preprocessing import OneHotEncoder\n",
    "\n",
    "enc = OneHotEncoder(handle_unknown='ignore', sparse=False)\n",
    "\n",
    "enc = enc.fit(name.reshape(-1, 1))\n",
    "y_pred = enc.inverse_transform(rounded)"
   ]
  },
  {
   "cell_type": "code",
   "execution_count": 48,
   "metadata": {},
   "outputs": [
    {
     "output_type": "stream",
     "name": "stdout",
     "text": [
      "[['Knob']]\n"
     ]
    }
   ],
   "source": [
    "print(y_pred)"
   ]
  },
  {
   "cell_type": "code",
   "execution_count": 49,
   "metadata": {},
   "outputs": [
    {
     "output_type": "stream",
     "name": "stdout",
     "text": [
      "Prediction: ['Knob']\n"
     ]
    }
   ],
   "source": [
    "output = []\n",
    "\n",
    "for i in range(len(y_pred)):\n",
    "        output.append(y_pred[i])\n",
    "        print(\"Prediction: %s\" % (y_pred[i]))"
   ]
  },
  {
   "cell_type": "code",
   "execution_count": 50,
   "metadata": {},
   "outputs": [],
   "source": [
    "import csv\n",
    "from datetime import datetime\n",
    "\n",
    "fields = ['Predicted']\n",
    "now = datetime.now()\n",
    "file = 'output ' + now.strftime(\"%d-%m-%Y %H-%M-%S\") + '.csv'\n",
    "with open(file, 'w', newline='') as filename:\n",
    "    write = csv.writer(filename)\n",
    "    write.writerow(fields)\n",
    "    write.writerows(output)\n"
   ]
  },
  {
   "cell_type": "code",
   "execution_count": null,
   "metadata": {},
   "outputs": [],
   "source": []
  }
 ]
}